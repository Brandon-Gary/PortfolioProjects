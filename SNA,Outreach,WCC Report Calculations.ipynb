{
 "cells": [
  {
   "cell_type": "code",
   "execution_count": null,
   "metadata": {},
   "outputs": [],
   "source": [
    "import numpy as np\n",
    "import pandas as pd"
   ]
  },
  {
   "cell_type": "code",
   "execution_count": null,
   "metadata": {},
   "outputs": [],
   "source": [
    "data = pd.read_csv(r'C:\\Users\\***\\***\\***\\***\\***\\Q2 SNAs.csv')"
   ]
  },
  {
   "cell_type": "code",
   "execution_count": null,
   "metadata": {
    "scrolled": false
   },
   "outputs": [],
   "source": [
    "#SNAs by CHW\n",
    "chw = data[['Record ID','Assigned CHW']]\n",
    "chw.groupby(\"Assigned CHW\").count()"
   ]
  },
  {
   "cell_type": "code",
   "execution_count": null,
   "metadata": {
    "scrolled": false
   },
   "outputs": [],
   "source": [
    "#SNAs By Referral Source\n",
    "ref_source = data[['Record ID','Referral Source']]\n",
    "ref_source.groupby(\"Referral Source\").count()"
   ]
  },
  {
   "cell_type": "code",
   "execution_count": null,
   "metadata": {},
   "outputs": [],
   "source": [
    "race_tot = data[['Record ID','Race/Ethnicity']]\n",
    "race_tot.groupby('Race/Ethnicity').count()"
   ]
  },
  {
   "cell_type": "code",
   "execution_count": null,
   "metadata": {},
   "outputs": [],
   "source": [
    "#SNAs by Gender\n",
    "gender = data[['Record ID','Gender']]\n",
    "gender = gender.fillna('Unknown')\n",
    "gender.groupby(\"Gender\").count()"
   ]
  },
  {
   "cell_type": "code",
   "execution_count": null,
   "metadata": {},
   "outputs": [],
   "source": [
    "#calculation for individual needs\n",
    "finding_housing = (data['Present Housing Needs (choice=Finding Housing)']=='Checked').sum()\n",
    "housing_application = (data['Present Housing Needs (choice=Housing Applications)']=='Checked').sum()\n",
    "furniture = (data['Present Housing Needs (choice=Furniture / Household)']=='Checked').sum()\n",
    "utilities = (data['Present Housing Needs (choice=Utilities)']=='Checked').sum()\n",
    "food = (data['Present Family Needs (choice=Food)']=='Checked').sum()\n",
    "daycare = (data['Present Family Needs (choice=Daycare)']=='Checked').sum()\n",
    "legal_services = (data['Present Family Needs (choice=Legal Services)']=='Checked').sum()\n",
    "transportation = (data['Present Family Needs (choice=Transportation)']=='Checked').sum()\n",
    "vital_records = (data['Present Family Needs (choice=Vital Records)']=='Checked').sum()\n",
    "clothing = (data['Present Family Needs (choice=Clothing)']=='Checked').sum()\n",
    "health_insurance = (data['Present Healthcare Needs (choice=Health Insurance)']=='Checked').sum()\n",
    "immunizations = (data['Present Healthcare Needs (choice=Immunizations)']=='Checked').sum()\n",
    "lead_screening = (data['Present Healthcare Needs (choice=Lead Screening)']=='Checked').sum()\n",
    "reproductive_health = (data['Present Healthcare Needs (choice=Reproductive Health)']=='Checked').sum()\n",
    "pcp = (data['Help finding a PCP?']=='Yes').sum()\n",
    "prenatal = (data['Present Healthcare Needs 2 (choice=Prenatal)']=='Checked').sum()\n",
    "mental_health = (data['Present Healthcare Needs 2 (choice=Mental Health)']=='Checked').sum()\n",
    "substance_abuse = (data['Present Healthcare Needs 2 (choice=Substance Abuse)']=='Checked').sum()\n",
    "std_testing = (data['Present Healthcare Needs 2 (choice=STD Testing)']=='Checked').sum()\n",
    "covid = (data['Present Healthcare Needs 2 (choice=COVID-19)']=='Checked').sum()\n",
    "employment = (data['Present Financial Needs (choice=Employment)']=='Checked').sum()\n",
    "unemployment = (data['Present Financial Needs (choice=Unemployment)']=='Checked').sum()\n",
    "financial_assist = (data['Present Financial Needs (choice=Financial Assistance)']=='Checked').sum()\n",
    "social_security = (data['Present Financial Needs (choice=Social Security)']=='Checked').sum()\n",
    "adult_education = (data['Present Education/Safety Needs (choice=Adult Education)']=='Checked').sum()\n",
    "childhood_education = (data['Present Education/Safety Needs (choice=Childhood Education)']=='Checked').sum()\n",
    "domestic_violence = (data['Present Education/Safety Needs (choice=Domestic Violence Education / Support)']=='Checked').sum()\n",
    "other = data[\"Do you have other social needs you'd like to have assistance with?\"].count()\n",
    "#Categories below\n",
    "housing_needs = (finding_housing+housing_application+furniture+utilities)\n",
    "family_needs = (food+daycare+legal_services+transportation+vital_records+clothing)\n",
    "health_needs = (health_insurance+immunizations+lead_screening+reproductive_health+pcp+prenatal+mental_health+substance_abuse+std_testing+covid)\n",
    "financial_needs = (employment+unemployment+financial_assist+social_security)\n",
    "edu_safety_needs = (adult_education+childhood_education+domestic_violence)\n",
    "total_needs = (housing_needs+family_needs+health_needs+financial_needs+edu_safety_needs+other)"
   ]
  },
  {
   "cell_type": "code",
   "execution_count": null,
   "metadata": {},
   "outputs": [],
   "source": [
    "#category totals\n",
    "print('\\nTotal Needs-', end=\"\")\n",
    "print(total_needs)\n",
    "print('\\nHousing-', end=\"\")\n",
    "print(housing_needs)\n",
    "print('\\nFamily-', end=\"\")\n",
    "print(family_needs)\n",
    "print('\\nHealthcare-', end=\"\")\n",
    "print(health_needs)\n",
    "print('\\nFinancial-', end=\"\")\n",
    "print(financial_needs)\n",
    "print('\\nEducation / Safety Needs-', end=\"\")\n",
    "print(edu_safety_needs)\n",
    "print('\\nOther-', end=\"\")\n",
    "print(other)"
   ]
  },
  {
   "cell_type": "code",
   "execution_count": null,
   "metadata": {
    "scrolled": false
   },
   "outputs": [],
   "source": [
    "#individual need totals\n",
    "print('Finding Housing-', end=\"\")\n",
    "print(finding_housing)\n",
    "print('Housing Application-', end=\"\")\n",
    "print(housing_application)\n",
    "print('Furniture-', end=\"\")\n",
    "print(furniture)\n",
    "print('Utilities-', end=\"\")\n",
    "print(utilities)\n",
    "print('Food-', end=\"\")\n",
    "print(food)\n",
    "print('Daycare-', end=\"\")\n",
    "print(daycare)\n",
    "print('Legal Services-', end=\"\")\n",
    "print(legal_services)\n",
    "print('Transportation-', end=\"\")\n",
    "print(transportation)\n",
    "print('Vital Records-', end=\"\")\n",
    "print(vital_records)\n",
    "print('Clothing-', end=\"\")\n",
    "print(clothing)\n",
    "print('Help Finding PCP-', end=\"\")\n",
    "print(pcp)\n",
    "print('Health Insurance-', end=\"\")\n",
    "print(health_insurance)\n",
    "print('Immunizations-', end=\"\")\n",
    "print(immunizations)\n",
    "print('Lead Screening-', end=\"\")\n",
    "print(lead_screening)\n",
    "print('Reproductive Health-', end=\"\")\n",
    "print(reproductive_health)\n",
    "print('Prenatal-', end=\"\")\n",
    "print(prenatal)\n",
    "print('Mental Health-', end=\"\")\n",
    "print(mental_health)\n",
    "print('Substance Abuse-', end=\"\")\n",
    "print(substance_abuse)\n",
    "print('STD Testing-', end=\"\")\n",
    "print(std_testing)\n",
    "print('COVID-19-', end=\"\")\n",
    "print(covid)\n",
    "print('Employment-', end=\"\")\n",
    "print(employment)\n",
    "print('Unemployment-', end=\"\")\n",
    "print(unemployment)\n",
    "print('Financial Assistance-', end=\"\")\n",
    "print(financial_assist)\n",
    "print('Social Security-', end=\"\")\n",
    "print(social_security)\n",
    "print('Adult Education-', end=\"\")\n",
    "print(adult_education)\n",
    "print('Childhood Education-', end=\"\")\n",
    "print(childhood_education)\n",
    "print('Domestic Violence-', end=\"\")\n",
    "print(domestic_violence)\n",
    "print('Other Needs-', end=\"\")\n",
    "print(other)"
   ]
  },
  {
   "cell_type": "code",
   "execution_count": null,
   "metadata": {},
   "outputs": [],
   "source": [
    "#Medical literacy\n",
    "med_lit = data[['Record ID','Medical Literacy']]\n",
    "med_lit = med_lit.fillna(\"Unanswered\")\n",
    "med_lit.groupby(\"Medical Literacy\").count()"
   ]
  },
  {
   "cell_type": "code",
   "execution_count": null,
   "metadata": {},
   "outputs": [],
   "source": [
    "zip_code = data[['Record ID','Zip Code']]\n",
    "zip_code.groupby('Zip Code').count()"
   ]
  },
  {
   "cell_type": "code",
   "execution_count": null,
   "metadata": {},
   "outputs": [],
   "source": [
    "#Do you have a PCP?\n",
    "pcp_yn = data[['Record ID','Do you have a PCP?']]\n",
    "pcp_yn = pcp_yn.fillna(\"Unanswered\")\n",
    "pcp_yn.groupby(\"Do you have a PCP?\").count()"
   ]
  },
  {
   "cell_type": "code",
   "execution_count": null,
   "metadata": {},
   "outputs": [],
   "source": [
    "#Do you have medical insurance?\n",
    "medins = data[['Record ID','Do you have medical insurance?']]\n",
    "medins = medins.fillna(\"Unanswered\")\n",
    "medins.groupby(\"Do you have medical insurance?\").count()"
   ]
  },
  {
   "cell_type": "code",
   "execution_count": null,
   "metadata": {},
   "outputs": [],
   "source": [
    "#Number of Assisted Family Members\n",
    "answered = data['Number of assisted family members'].count()\n",
    "total = data['Number of assisted family members'].sum()\n",
    "print('CMs who answered the question-> ', end=\"\")\n",
    "print(answered)\n",
    "print('Members of community impacted-> ', end=\"\")\n",
    "print(total)"
   ]
  },
  {
   "cell_type": "code",
   "execution_count": null,
   "metadata": {},
   "outputs": [],
   "source": [
    "#Start 48 Hour FU Data\n",
    "data48 = pd.read_csv(r'C:\\Users\\bgary\\OneDrive - Saint Joseph County Government\\Documents\\CHW Program Data Reports\\June 2025\\48 Hr FU.csv')"
   ]
  },
  {
   "cell_type": "code",
   "execution_count": null,
   "metadata": {
    "scrolled": true
   },
   "outputs": [],
   "source": [
    "total_needs_48 = (data48['PCP Provided '].count())+(data48['Finding Housing Provided '].count())+(data48['Housing Application Provided'].count())+(data48['Furniture Provided'].count())+(data48['Utilities Provided'].count())+(data48['Food Provided'].count())+(data48['Daycare Provided'].count())+(data48['Legal Services Provided'].count())+(data48['Transportation Provided'].count())+(data48['Immunization Provided'].count())+(data48['Lead Screening Provided'].count())+(data48['Reproductive Health Provided'].count())+(data48['Prenatal Care Provided'].count())+(data48['Mental Health Provided'].count())+(data48['Substance Abuse Provided'].count())+(data48['STD Testing Provided'].count())+(data48['COVID-19 Provided'].count())+(data48['Employment Provided'].count())+(data48['Unemployment Provided'].count())+(data48['Financial Assistance Provided'].count())+(data48['Social Security Provided'].count())+(data48['Adult Education Provided'].count())+(data48['Childhood Education Provided'].count())+(data48['Domestic Violence Education Provided'].count())+(data48['Other Provided'].count())+((data48['Complete?'] == 'Complete').sum())\n",
    "housing_48 = (data48['Finding Housing Provided '].count())+(data48['Housing Application Provided'].count())+(data48['Furniture Provided'].count())+(data48['Utilities Provided'].count())\n",
    "family_48 = (data48['Food Provided'].count())+(data48['Daycare Provided'].count())+(data48['Legal Services Provided'].count())+(data48['Transportation Provided'].count())\n",
    "health_48 = (data48['PCP Provided '].count())+(data48['Immunization Provided'].count())+(data48['Lead Screening Provided'].count())+(data48['Reproductive Health Provided'].count())+(data48['Prenatal Care Provided'].count())+(data48['Mental Health Provided'].count())+(data48['Substance Abuse Provided'].count())+(data48['STD Testing Provided'].count())+(data48['COVID-19 Provided'].count())+((data48['Complete?'] == 'Complete').sum())\n",
    "financial_48 = (data48['Employment Provided'].count())+(data48['Unemployment Provided'].count())+(data48['Financial Assistance Provided'].count())+(data48['Social Security Provided'].count())\n",
    "edu_48 = (data48['Adult Education Provided'].count())+(data48['Childhood Education Provided'].count())+(data48['Domestic Violence Education Provided'].count())\n",
    "other_48 = (data48['Other Provided'].count())\n",
    "\n",
    "print('\\nTotal Resources Provided-', end=\"\")\n",
    "print(total_needs_48)\n",
    "print('\\n\\nHousing Provided-', end=\"\")\n",
    "print(housing_48)\n",
    "print('\\nFamily Provided-', end=\"\")\n",
    "print(family_48)\n",
    "print('\\nHealth Provided-', end=\"\")\n",
    "print(health_48)\n",
    "print('\\nFinancial Provided-', end=\"\")\n",
    "print(financial_48)\n",
    "print('\\nEducation Provided-', end=\"\")\n",
    "print(edu_48)\n",
    "print('\\nOther Provided-', end=\"\")\n",
    "print((data48['Other Provided'].count()))"
   ]
  },
  {
   "cell_type": "code",
   "execution_count": null,
   "metadata": {
    "scrolled": false
   },
   "outputs": [],
   "source": [
    "healthins48 = (data48['Complete?']=='Complete').sum()\n",
    "pcp48 = data48['PCP Provided '].count()\n",
    "housing48 = data48['Finding Housing Provided '].count()\n",
    "houseapp48 = data48['Housing Application Provided'].count()\n",
    "furn48 = data48['Furniture Provided'].count()\n",
    "utility48 = data48['Utilities Provided'].count()\n",
    "food48 = data48['Food Provided'].count()\n",
    "daycare48 = data48['Daycare Provided'].count()\n",
    "legal48 = data48['Legal Services Provided'].count()\n",
    "transpo48 = data48['Transportation Provided'].count()\n",
    "imm48 = data48['Immunization Provided'].count()\n",
    "lead48 = data48['Lead Screening Provided'].count()\n",
    "repro48 = data48['Reproductive Health Provided'].count()\n",
    "prenatal48 = data48['Prenatal Care Provided'].count()\n",
    "mental48 = data48['Mental Health Provided'].count()\n",
    "substance48 = data48['Substance Abuse Provided'].count()\n",
    "std48 = data48['STD Testing Provided'].count()\n",
    "covid48 = data48['COVID-19 Provided'].count()\n",
    "employment48 = data48['Employment Provided'].count()\n",
    "unemploy48 = data48['Unemployment Provided'].count()\n",
    "finan48 = data48['Financial Assistance Provided'].count()\n",
    "socialsec48 = data48['Social Security Provided'].count()\n",
    "adultedu48 = data48['Adult Education Provided'].count()\n",
    "childedu48 = data48['Childhood Education Provided'].count()\n",
    "domestic48 = data48['Domestic Violence Education Provided'].count()\n",
    "other48 = data48['Other Provided'].count()\n",
    "print('Finding Housing-', end=\"\")\n",
    "print(housing48)\n",
    "print('Housing Application-', end=\"\")\n",
    "print(houseapp48)\n",
    "print('Furniture-', end=\"\")\n",
    "print(furn48)\n",
    "print('Utilities-', end=\"\")\n",
    "print(utility48)\n",
    "print('Food-', end=\"\")\n",
    "print(food48)\n",
    "print('Daycare-', end=\"\")\n",
    "print(daycare48)\n",
    "print('Legal Services-', end=\"\")\n",
    "print(legal48)\n",
    "print('Transportation-', end=\"\")\n",
    "print(transpo48)\n",
    "print('Help Finding PCP-', end=\"\")\n",
    "print(pcp48)\n",
    "print('Health Insurance-', end=\"\")\n",
    "print(healthins48)\n",
    "print('Immunizations-', end=\"\")\n",
    "print(imm48)\n",
    "print('Lead Screening-', end=\"\")\n",
    "print(lead48)\n",
    "print('Reproductive Health-', end=\"\")\n",
    "print(repro48)\n",
    "print('Prenatal-', end=\"\")\n",
    "print(prenatal48)\n",
    "print('Mental Health-', end=\"\")\n",
    "print(mental48)\n",
    "print('Substance Abuse-', end=\"\")\n",
    "print(substance48)\n",
    "print('STD Testing-', end=\"\")\n",
    "print(std48)\n",
    "print('COVID-19-', end=\"\")\n",
    "print(covid48)\n",
    "print('Employment-', end=\"\")\n",
    "print(employment48)\n",
    "print('Unemployment-', end=\"\")\n",
    "print(unemploy48)\n",
    "print('Financial Assistance-', end=\"\")\n",
    "print(finan48)\n",
    "print('Social Security-', end=\"\")\n",
    "print(socialsec48)\n",
    "print('Adult Education-', end=\"\")\n",
    "print(adultedu48)\n",
    "print('Childhood Education-', end=\"\")\n",
    "print(childedu48)\n",
    "print('Domestic Violence-', end=\"\")\n",
    "print(domestic48)\n",
    "print('Other Needs-', end=\"\")\n",
    "print(other48)"
   ]
  },
  {
   "cell_type": "code",
   "execution_count": null,
   "metadata": {},
   "outputs": [],
   "source": [
    "ins = (data48['Complete?'] == 'Complete').sum()\n",
    "print('Health Insurance Provided-', end=\"\")\n",
    "print(ins)"
   ]
  },
  {
   "cell_type": "code",
   "execution_count": null,
   "metadata": {},
   "outputs": [],
   "source": [
    "#Below begins the outreach report"
   ]
  },
  {
   "cell_type": "code",
   "execution_count": null,
   "metadata": {},
   "outputs": [],
   "source": [
    "outreach = pd.read_csv(r'C:\\Users\\bgary\\OneDrive - Saint Joseph County Government\\Documents\\CHW Program Data Reports\\June 2025\\Q2 Outreach.csv')\n",
    "outreach[['Record ID']].count()"
   ]
  },
  {
   "cell_type": "code",
   "execution_count": null,
   "metadata": {},
   "outputs": [],
   "source": [
    "chw_event_count = outreach[['Record ID','Event CHW']]\n",
    "chw_event_count.groupby('Event CHW').count()"
   ]
  },
  {
   "cell_type": "code",
   "execution_count": null,
   "metadata": {
    "scrolled": false
   },
   "outputs": [],
   "source": [
    "#Sums by CHW\n",
    "chw_sums = outreach[['Event CHW','Total People Talked To','Total Doorhangers Used','Total Flyers','Total Business Cards','Total COVID-19 Tests']]\n",
    "chw_sums.groupby('Event CHW').sum()"
   ]
  },
  {
   "cell_type": "code",
   "execution_count": null,
   "metadata": {
    "scrolled": false
   },
   "outputs": [],
   "source": [
    "#Event count by event type\n",
    "event_count = outreach[['Event Type','Record ID']]\n",
    "event_count.groupby('Event Type').count()"
   ]
  },
  {
   "cell_type": "code",
   "execution_count": null,
   "metadata": {},
   "outputs": [],
   "source": [
    "#Partner Site Visit Locations\n",
    "site_names = outreach[['Record ID','Partner Site Name']]\n",
    "site_names.groupby('Partner Site Name').count()"
   ]
  },
  {
   "cell_type": "code",
   "execution_count": null,
   "metadata": {},
   "outputs": [],
   "source": [
    "#Active, Passive participants\n",
    "attendees = outreach[['Event Type','Number of Attendees']]\n",
    "attendees.groupby('Event Type').sum()"
   ]
  },
  {
   "cell_type": "code",
   "execution_count": null,
   "metadata": {},
   "outputs": [],
   "source": [
    "#Times each CHW served as additional staff\n",
    "AR = (outreach['Other Employee (choice=Andrea Romo)']=='Checked').sum()\n",
    "if AR > 0:\n",
    "    print(\"Andrea Romo-\",end=\"\")\n",
    "    print(AR)\n",
    "AT = (outreach['Other Employee (choice=Andrea Tobar)']=='Checked').sum()\n",
    "if AT > 0:\n",
    "    print(\"Andrea Tobar-\",end=\"\")\n",
    "    print(AT)\n",
    "CD = (outreach['Other Employee (choice=Clara M. Davis)']=='Checked').sum()\n",
    "if CD > 0:\n",
    "    print(\"Clara Davis-\",end=\"\")\n",
    "    print(CD)\n",
    "JR = (outreach['Other Employee (choice=Jessica Robinson)']=='Checked').sum()\n",
    "if JR > 0:\n",
    "    print(\"Jessica Robinon-\",end=\"\")\n",
    "    print(JR)\n",
    "JC = (outreach['Other Employee (choice=Jonathan Carmona)']=='Checked').sum()\n",
    "if JC > 0:\n",
    "    print(\"Jonathan Carmona\",end=\"\")\n",
    "    print(JC)\n",
    "KC = (outreach['Other Employee (choice=Kayla Clemons)']=='Checked').sum()\n",
    "if KC > 0:\n",
    "    print(\"Kayla Clemons-\",end=\"\")\n",
    "    print(KC)\n",
    "KD = (outreach['Other Employee (choice=Kim Dreibelbeis)']=='Checked').sum()\n",
    "if KD > 0:\n",
    "    print(\"Kim Dreibelbeis-\",end=\"\")\n",
    "    print(KD)\n",
    "KS = (outreach['Other Employee (choice=Koraima Santacruz)']=='Checked').sum()\n",
    "if KS > 0:\n",
    "    print(\"Koraima Santacruz-\", end=\"\")\n",
    "    print(KS)\n",
    "LH = (outreach['Other Employee (choice=La Rhonda Hosea)']=='Checked').sum()\n",
    "if LH > 0:\n",
    "    print(\"LaRhonda Hosea-\",end=\"\")\n",
    "    print(LH)\n",
    "LL = (outreach['Other Employee (choice=LaShawna Love)']=='Checked').sum()\n",
    "if LL > 0:\n",
    "    print(\"LaShawna Love-\", end=\"\")\n",
    "    print(LL)\n",
    "ML = (outreach['Other Employee (choice=Mercedes Lopez)']=='Checked').sum()\n",
    "if ML > 0:\n",
    "    print(\"Mercedes Lopez-\", end=\"\")\n",
    "    print(ML)\n",
    "RL = (outreach['Other Employee (choice=Rafael Lemus)']=='Checked').sum()\n",
    "if RL > 0:\n",
    "    print(\"Rafael Lemus-\", end=\"\")\n",
    "    print(RL)\n",
    "VE = (outreach['Other Employee (choice=Veronica Escobedo)']=='Checked').sum()\n",
    "if VE > 0:\n",
    "    print(\"Veronica Escobedo-\", end=\"\")\n",
    "    print(VE)\n",
    "VS = (outreach['Other Employee (choice=Virginia Solis)']=='Checked').sum()\n",
    "if VS > 0:\n",
    "    print(\"Virginia Solis-\", end=\"\")\n",
    "    print(VS)\n",
    "TC = (outreach['Other Employee (choice=Tiffany Chukwuma)']=='Checked').sum()\n",
    "if TC > 0:\n",
    "    print(\"Tiffany Chukwuma-\", end=\"\")\n",
    "    print(TC)\n",
    "LS = (outreach['Other Employee (choice=Lindsey Stevenson)']=='Checked').sum()\n",
    "if LS > 0:\n",
    "    print(\"Lindsey Stevenson-\", end=\"\")\n",
    "    print(LS)\n",
    "NC = (outreach['Other Employee (choice=Nancy Coiro)']=='Checked').sum()\n",
    "if NC > 0:\n",
    "    print(\"Nancy Coiro-\", end=\"\")\n",
    "    print(NC)\n",
    "CJ = (outreach['Other Employee (choice=Chaquisha Jordan)']=='Checked').sum()\n",
    "if CJ > 0:\n",
    "    print(\"Chaquisha Jordan-\", end=\"\")\n",
    "    print(CJ)\n",
    "AS = (outreach['Other Employee (choice=Amy Schnick)']=='Checked').sum()\n",
    "if AS > 0:\n",
    "    print(\"Amy Schnick-\", end=\"\")\n",
    "    print(AS)\n",
    "AB = (outreach['Other Employee (choice=Alissa Balke)']=='Checked').sum()\n",
    "if AB > 0:\n",
    "    print(\"Alissa Balke-\", end=\"\")\n",
    "    print(AB)\n",
    "RW = (outreach['Other Employee (choice=Renata Williams)']=='Checked').sum()\n",
    "if RW > 0:\n",
    "    print(\"Renata Williams-\", end=\"\")\n",
    "    print(RW)"
   ]
  },
  {
   "cell_type": "code",
   "execution_count": null,
   "metadata": {},
   "outputs": [],
   "source": [
    "#Community Event Services Provided\n",
    "CDC = (outreach['Services Provided (choice=CDC Awareness)']=='Checked').sum()\n",
    "print(\"CDC Awareness-\",end=\"\")\n",
    "print(CDC)\n",
    "HPV = (outreach['Services Provided (choice=HPV Education)']=='Checked').sum()\n",
    "print(\"HPV Education-\",end=\"\")\n",
    "print(HPV)\n",
    "health_prom = (outreach['Services Provided (choice=Health Promotion)']=='Checked').sum()\n",
    "print(\"Health Promotion-\",end=\"\")\n",
    "print(health_prom)\n",
    "lead = (outreach['Services Provided (choice=Lead Awareness)']=='Checked').sum()\n",
    "print(\"Lead Awareness-\",end=\"\")\n",
    "print(lead)\n",
    "enviro = (outreach['Services Provided (choice=Environmental)']=='Checked').sum()\n",
    "print(\"Environmental-\",end=\"\")\n",
    "print(enviro)\n",
    "imm = (outreach['Services Provided (choice=Immunizations)']=='Checked').sum()\n",
    "print(\"Imunizations-\",end=\"\")\n",
    "print(imm)\n",
    "bp = (outreach['Services Provided (choice=Blood Pressure Checks)']=='Checked').sum()\n",
    "print(\"Blood Pressure-\",end=\"\")\n",
    "print(bp)\n",
    "oth = (outreach['Services Provided (choice=Other)']=='Checked').sum()\n",
    "print(\"Other-\",end=\"\")\n",
    "print(oth)"
   ]
  },
  {
   "cell_type": "code",
   "execution_count": null,
   "metadata": {},
   "outputs": [],
   "source": [
    "#Below begins the WCC report"
   ]
  },
  {
   "cell_type": "code",
   "execution_count": null,
   "metadata": {},
   "outputs": [],
   "source": [
    "wcc = pd.read_csv(r'C:\\Users\\bgary\\OneDrive - Saint Joseph County Government\\Documents\\CHW Program Data Reports\\June 2025\\Q2 MIH New Patients.csv')"
   ]
  },
  {
   "cell_type": "code",
   "execution_count": null,
   "metadata": {},
   "outputs": [],
   "source": [
    "chw_mih = wcc[['Record ID','Assigned CHW']]\n",
    "chw_mih = chw_mih.groupby('Assigned CHW').count()\n",
    "chw_mih"
   ]
  },
  {
   "cell_type": "code",
   "execution_count": null,
   "metadata": {},
   "outputs": [],
   "source": [
    "finding_housing = (wcc['Present Housing Needs (choice=Finding Housing)']=='Checked').sum()\n",
    "housing_application = (wcc['Present Housing Needs (choice=Housing Applications)']=='Checked').sum()\n",
    "furniture = (wcc['Present Housing Needs (choice=Furniture)']=='Checked').sum()\n",
    "utilities = (wcc['Present Housing Needs (choice=Utilities)']=='Checked').sum()\n",
    "food = (wcc['Present Family Needs (choice=Food)']=='Checked').sum()\n",
    "daycare = (wcc['Present Family Needs (choice=Daycare)']=='Checked').sum()\n",
    "legal_services = (wcc['Present Family Needs (choice=Legal Services)']=='Checked').sum()\n",
    "transportation = (wcc['Present Family Needs (choice=Transportation)']=='Checked').sum()\n",
    "vital_records = (wcc['Present Family Needs (choice=Vital Records)']=='Checked').sum()\n",
    "health_insurance = (wcc['Present Healthcare Needs (choice=Health Insurance)']=='Checked').sum()\n",
    "health_insurance2 = (wcc['Insurance Help?']=='Yes').sum()\n",
    "immunizations = (wcc['Present Healthcare Needs (choice=Immunizations)']=='Checked').sum()\n",
    "lead_screening = (wcc['Present Healthcare Needs (choice=Lead Screening)']=='Checked').sum()\n",
    "reproductive_health = (wcc['Present Healthcare Needs (choice=Reproductive Health)']=='Checked').sum()\n",
    "pcp = (wcc['PCP Referral?']=='Yes').sum()\n",
    "obref = (wcc['OB Referral?']=='Yes').sum()\n",
    "prenatal = (wcc['Present Healthcare Needs (choice=Prenatal Care)']=='Checked').sum()\n",
    "mental_health = (wcc['Present Healthcare Needs 2 (choice=Mental Health)']=='Checked').sum()\n",
    "substance_abuse = (wcc['Present Healthcare Needs 2 (choice=Substance Abuse)']=='Checked').sum()\n",
    "std_testing = (wcc['Present Healthcare Needs 2 (choice=STD Testing)']=='Checked').sum()\n",
    "covid = (wcc['Present Healthcare Needs 2 (choice=COVID-19 Testing)']=='Checked').sum()\n",
    "employment = (wcc['Present Financial Needs (choice=Employment)']=='Checked').sum()\n",
    "unemployment = (wcc['Present Financial Needs (choice=Unemployment)']=='Checked').sum()\n",
    "financial_assist = (wcc['Present Financial Needs (choice=Financial Assistance)']=='Checked').sum()\n",
    "social_security = (wcc['Present Financial Needs (choice=Social Security)']=='Checked').sum()\n",
    "adult_education = (wcc['Present Education/Safety Needs (choice=Adult Education)']=='Checked').sum()\n",
    "childhood_education = (wcc['Present Education/Safety Needs (choice=Childhood Education)']=='Checked').sum()\n",
    "domestic_violence = (wcc['Present Education/Safety Needs (choice=Domestic Violence Education / Advocacy or Support)']=='Checked').sum()\n",
    "other = wcc[\"Do you have other social needs you'd like to have assistance with?\"].count()\n",
    "health_insurance3 = (health_insurance + health_insurance2)\n",
    "#Categories below\n",
    "prenatal2 = (obref + prenatal)\n",
    "housing_needs = (finding_housing+housing_application+furniture+utilities)\n",
    "family_needs = (food+daycare+legal_services+transportation+vital_records)\n",
    "health_needs = (health_insurance+health_insurance2+immunizations+lead_screening+reproductive_health+pcp+obref+prenatal+mental_health+substance_abuse+std_testing+covid)\n",
    "financial_needs = (employment+unemployment+financial_assist+social_security)\n",
    "edu_safety_needs = (adult_education+childhood_education+domestic_violence)\n",
    "total_needs = (housing_needs+family_needs+health_needs+financial_needs+edu_safety_needs+other)\n",
    "print('\\nTotal Needs-', end=\"\")\n",
    "print(total_needs)\n",
    "print('\\nHousing-', end=\"\")\n",
    "print(housing_needs)\n",
    "print('\\nFamily-', end=\"\")\n",
    "print(family_needs)\n",
    "print('\\nHealthcare-', end=\"\")\n",
    "print(health_needs)\n",
    "print('\\nFinancial-', end=\"\")\n",
    "print(financial_needs)\n",
    "print('\\nEducation / Safety Needs-', end=\"\")\n",
    "print(edu_safety_needs)\n",
    "print('\\nOther-', end=\"\")\n",
    "print(other)"
   ]
  },
  {
   "cell_type": "code",
   "execution_count": null,
   "metadata": {},
   "outputs": [],
   "source": [
    "print('Finding Housing-', end=\"\")\n",
    "print(finding_housing)\n",
    "print('Housing Application-', end=\"\")\n",
    "print(housing_application)\n",
    "print('Furniture-', end=\"\")\n",
    "print(furniture)\n",
    "print('Utilities-', end=\"\")\n",
    "print(utilities)\n",
    "print('Food-', end=\"\")\n",
    "print(food)\n",
    "print('Daycare-', end=\"\")\n",
    "print(daycare)\n",
    "print('Legal Services-', end=\"\")\n",
    "print(legal_services)\n",
    "print('Transportation-', end=\"\")\n",
    "print(transportation)\n",
    "print('Vital Records-', end=\"\")\n",
    "print(vital_records)\n",
    "print('Health Insurance-', end=\"\")\n",
    "print(health_insurance3)\n",
    "print('Immunizations-', end=\"\")\n",
    "print(immunizations)\n",
    "print('Lead Screening-', end=\"\")\n",
    "print(lead_screening)\n",
    "print('Reproductive Health-', end=\"\")\n",
    "print(reproductive_health)\n",
    "print('Prenatal-', end=\"\")\n",
    "print(prenatal2)\n",
    "print('Mental Health-', end=\"\")\n",
    "print(mental_health)\n",
    "print('Substance Abuse-', end=\"\")\n",
    "print(substance_abuse)\n",
    "print('STD Testing-', end=\"\")\n",
    "print(std_testing)\n",
    "print('COVID-19-', end=\"\")\n",
    "print(covid)\n",
    "print('Employment-', end=\"\")\n",
    "print(employment)\n",
    "print('Unemployment-', end=\"\")\n",
    "print(unemployment)\n",
    "print('Financial Assistance-', end=\"\")\n",
    "print(financial_assist)\n",
    "print('Social Security-', end=\"\")\n",
    "print(social_security)\n",
    "print('Adult Education-', end=\"\")\n",
    "print(adult_education)\n",
    "print('Childhood Education-', end=\"\")\n",
    "print(childhood_education)\n",
    "print('Domestic Violence-', end=\"\")\n",
    "print(domestic_violence)\n",
    "print('Help Finding PCP-', end=\"\")\n",
    "print(pcp)\n",
    "print('Other Needs-', end=\"\")\n",
    "print(other)"
   ]
  },
  {
   "cell_type": "code",
   "execution_count": null,
   "metadata": {},
   "outputs": [],
   "source": [
    "wcc.count()"
   ]
  },
  {
   "cell_type": "code",
   "execution_count": null,
   "metadata": {
    "scrolled": true
   },
   "outputs": [],
   "source": [
    "wcc_age = wcc[['Record ID','Age']]\n",
    "wcc_age.groupby('Age').count()"
   ]
  },
  {
   "cell_type": "code",
   "execution_count": null,
   "metadata": {},
   "outputs": [],
   "source": [
    "wcc_race = wcc[['Record ID','Race/Ethnicity']]\n",
    "wcc_race.groupby('Race/Ethnicity').count()"
   ]
  },
  {
   "cell_type": "code",
   "execution_count": null,
   "metadata": {
    "scrolled": true
   },
   "outputs": [],
   "source": [
    "weeks_preg = wcc[['Record ID','Weeks Calc 3']]\n",
    "weeks_preg.groupby('Weeks Calc 3').count()"
   ]
  },
  {
   "cell_type": "code",
   "execution_count": null,
   "metadata": {},
   "outputs": [],
   "source": [
    "#med_lit2 = wcc[['Record ID','Medical Literacy']]\n",
    "#med_lit2 = med_lit2.fillna(\"Unknown\")\n",
    "#med_lit2.groupby('Medical Literacy').count()"
   ]
  },
  {
   "cell_type": "code",
   "execution_count": null,
   "metadata": {},
   "outputs": [],
   "source": [
    "med_ins = wcc[['Record ID','Do you have medical insurance?']]\n",
    "med_ins = med_ins.fillna(\"Unanswered\")\n",
    "med_ins.groupby('Do you have medical insurance?').count()"
   ]
  },
  {
   "cell_type": "code",
   "execution_count": null,
   "metadata": {},
   "outputs": [],
   "source": [
    "pcp_yn = wcc[['Record ID','Primary Care Physician?']]\n",
    "pcp_yn = pcp_yn.fillna(\"Unanswered\")\n",
    "pcp_yn.groupby('Primary Care Physician?').count()"
   ]
  },
  {
   "cell_type": "code",
   "execution_count": null,
   "metadata": {},
   "outputs": [],
   "source": [
    "obgyn_yn = wcc[['Record ID','OBGYN?']]\n",
    "obgyn_yn = obgyn_yn.fillna(\"Unanswered\")\n",
    "obgyn_yn.groupby('OBGYN?').count()"
   ]
  },
  {
   "cell_type": "code",
   "execution_count": null,
   "metadata": {},
   "outputs": [],
   "source": [
    "firstpreg = wcc[['Record ID','First Pregnancy?']]\n",
    "firstpreg = firstpreg.fillna(\"Unanswered\")\n",
    "firstpreg.groupby('First Pregnancy?').count()"
   ]
  },
  {
   "cell_type": "code",
   "execution_count": null,
   "metadata": {},
   "outputs": [],
   "source": [
    "med_comp = wcc[['Record ID','Med Complications?']]\n",
    "med_comp = med_comp.fillna(\"Unanswered\")\n",
    "med_comp.groupby('Med Complications?').count()"
   ]
  },
  {
   "cell_type": "code",
   "execution_count": null,
   "metadata": {},
   "outputs": [],
   "source": [
    "safety = wcc[['Record ID','Safety?']]\n",
    "safety = safety.fillna(\"Unanswered\")\n",
    "safety.groupby('Safety?').count()"
   ]
  },
  {
   "cell_type": "code",
   "execution_count": null,
   "metadata": {},
   "outputs": [],
   "source": [
    "zips = wcc[['Record ID','Zip Code']]\n",
    "zips.groupby('Zip Code').count()"
   ]
  },
  {
   "cell_type": "code",
   "execution_count": null,
   "metadata": {},
   "outputs": [],
   "source": []
  }
 ],
 "metadata": {
  "kernelspec": {
   "display_name": "Python 3",
   "language": "python",
   "name": "python3"
  },
  "language_info": {
   "codemirror_mode": {
    "name": "ipython",
    "version": 3
   },
   "file_extension": ".py",
   "mimetype": "text/x-python",
   "name": "python",
   "nbconvert_exporter": "python",
   "pygments_lexer": "ipython3",
   "version": "3.7.9"
  }
 },
 "nbformat": 4,
 "nbformat_minor": 4
}
