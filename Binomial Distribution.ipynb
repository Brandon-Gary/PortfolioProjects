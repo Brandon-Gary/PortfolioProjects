{
 "cells": [
  {
   "cell_type": "code",
   "execution_count": 3,
   "metadata": {},
   "outputs": [
    {
     "name": "stdout",
     "output_type": "stream",
     "text": [
      "r\tp(r)\n",
      "0\t0.0041154258528615885\n",
      "1\t0.026434770674961607\n",
      "2\t0.08018307984243789\n",
      "3\t0.15260533694119333\n",
      "4\t0.2042157578809388\n",
      "5\t0.20404950353259693\n",
      "6\t0.15776690469876692\n",
      "7\t0.09651334584789845\n",
      "8\t0.04735636186193522\n",
      "9\t0.018776908140643728\n",
      "10\t0.006030521244084613\n",
      "11\t0.001565093955538921\n",
      "12\t0.0003257957906091318\n",
      "13\t5.3658882953889053e-05\n",
      "14\t6.838673297573542e-06\n",
      "15\t6.507719863453057e-07\n",
      "16\t4.354300349613687e-08\n",
      "17\t1.828048514563654e-09\n",
      "18\t3.62412753904901e-11\n",
      "mean = 4.734\n",
      "variance = 3.488958\n"
     ]
    }
   ],
   "source": [
    "#BINOMIAL DISTRIBUTION - NO SHOW PROBABILITY OF IMMUNIZATION CLINIC\n",
    "\n",
    "import numpy as np\n",
    "import scipy\n",
    "import matplotlib.pyplot as plt\n",
    "from scipy.stats import binom\n",
    "\n",
    "n = 18  #Total Appointments\n",
    "p = 0.263  #No Show Probability for Each Appointment Based on Historical Data\n",
    "r_values = list(range(n+1))\n",
    "mean, var = binom.stats(n,p)\n",
    "dist = [binom.pmf(r, n, p) for r in r_values]\n",
    "\n",
    "print(\"r\\tp(r)\")\n",
    "for i in range(n +1):\n",
    "    print(str(r_values[i]) + \"\\t\" + str(dist[i]))\n",
    "    \n",
    "print(\"mean = \"+str(mean))\n",
    "print(\"variance = \"+str(var))"
   ]
  },
  {
   "cell_type": "code",
   "execution_count": 2,
   "metadata": {
    "collapsed": true
   },
   "outputs": [
    {
     "data": {
      "image/png": "[encoded data removed]",
      "text/plain": [
       "<Figure size 432x288 with 1 Axes>"
      ]
     },
     "metadata": {
      "needs_background": "light"
     },
     "output_type": "display_data"
    }
   ],
   "source": [
    "n = 18\n",
    "p = 0.263\n",
    "# defining list of r values \n",
    "r_values = list(range(n + 1)) \n",
    "# list of pmf values \n",
    "dist = [binom.pmf(r, n, p) for r in r_values ] \n",
    "# plotting the graph  \n",
    "plt.bar(r_values, dist)\n",
    "plt.xlabel(\"Number of No Shows\")\n",
    "plt.ylabel(\"Percent Chance\")\n",
    "plt.show()"
   ]
  },
  {
   "cell_type": "code",
   "execution_count": null,
   "metadata": {},
   "outputs": [],
   "source": []
  }
 ],
 "metadata": {
  "kernelspec": {
   "display_name": "Python 3",
   "language": "python",
   "name": "python3"
  },
  "language_info": {
   "codemirror_mode": {
    "name": "ipython",
    "version": 3
   },
   "file_extension": ".py",
   "mimetype": "text/x-python",
   "name": "python",
   "nbconvert_exporter": "python",
   "pygments_lexer": "ipython3",
   "version": "3.7.9"
  }
 },
 "nbformat": 4,
 "nbformat_minor": 4
}
